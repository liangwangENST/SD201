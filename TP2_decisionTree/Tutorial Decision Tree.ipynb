{
 "cells": [
  {
   "cell_type": "code",
   "execution_count": null,
   "metadata": {
    "collapsed": true
   },
   "outputs": [],
   "source": [
    "#see also http://scikit-learn.org/stable/modules/tree.html\n",
    "from sklearn import tree\n",
    "from sklearn.datasets import load_iris\n",
    "from sklearn.externals.six import StringIO\n",
    "import pydot\n",
    "import numpy as np\n",
    "import random\n",
    "from numpy.random import RandomState\n",
    "from scipy import stats\n",
    "import math\n",
    "import graphviz\n",
    "\n",
    "\n",
    "\n",
    "iris=load_iris()\n",
    "\n",
    "\n",
    "#iris.data it contains the training data\n",
    "#iris.target it contains the training class (rows correspond)\n",
    "clf = tree.DecisionTreeClassifier(criterion='gini')\n",
    "clf = clf.fit(iris.data, iris.target)\n",
    "print(iris.target_names)\n",
    "print(iris.feature_names)\n",
    "#to visualize the decision tree\n",
    "dot_data = tree.export_graphviz(clf, out_file=None, \n",
    "                         feature_names=iris.feature_names,  \n",
    "                         class_names=iris.target_names,  \n",
    "                         filled=True, rounded=True,  \n",
    "                         special_characters=True)  \n",
    "\n",
    "\n",
    "graphv = graphviz.Source(dot_data)  \n",
    "print(graphv)\n",
    "\n",
    "\n",
    "\n",
    "#print the decision tree in a pdf file\n",
    "from sklearn.externals.six import StringIO\n",
    "import pydot\n",
    "import graphviz\n",
    "\n",
    "import pydot\n",
    "dot_data = StringIO()\n",
    "tree.export_graphviz(clf, out_file=dot_data, feature_names=iris.feature_names,  \n",
    "                         class_names=iris.target_names,  \n",
    "                         filled=True, rounded=True,  \n",
    "                         special_characters=True  \n",
    "                    )\n",
    "graph = pydot.graph_from_dot_data(dot_data.getvalue())\n",
    "graph[0].write_pdf(\"irisDefault.pdf\")\n"
   ]
  },
  {
   "cell_type": "code",
   "execution_count": null,
   "metadata": {
    "collapsed": true
   },
   "outputs": [],
   "source": [
    "graphv"
   ]
  },
  {
   "cell_type": "code",
   "execution_count": null,
   "metadata": {
    "collapsed": true
   },
   "outputs": [],
   "source": [
    "print \"training errors:\"+str((1-clf.score(iris.data,iris.target)))"
   ]
  },
  {
   "cell_type": "code",
   "execution_count": null,
   "metadata": {
    "collapsed": true
   },
   "outputs": [],
   "source": [
    "print \"Number of nodes in the tree:\" +str(clf.tree_.node_count)"
   ]
  },
  {
   "cell_type": "code",
   "execution_count": null,
   "metadata": {
    "collapsed": true
   },
   "outputs": [],
   "source": []
  },
  {
   "cell_type": "code",
   "execution_count": null,
   "metadata": {
    "collapsed": true
   },
   "outputs": [],
   "source": []
  },
  {
   "cell_type": "code",
   "execution_count": null,
   "metadata": {
    "collapsed": true
   },
   "outputs": [],
   "source": []
  },
  {
   "cell_type": "code",
   "execution_count": null,
   "metadata": {
    "collapsed": true
   },
   "outputs": [],
   "source": []
  }
 ],
 "metadata": {
  "kernelspec": {
   "display_name": "Python 3",
   "language": "python",
   "name": "python3"
  },
  "language_info": {
   "codemirror_mode": {
    "name": "ipython",
    "version": 3
   },
   "file_extension": ".py",
   "mimetype": "text/x-python",
   "name": "python",
   "nbconvert_exporter": "python",
   "pygments_lexer": "ipython3",
   "version": "3.6.6"
  }
 },
 "nbformat": 4,
 "nbformat_minor": 2
}
